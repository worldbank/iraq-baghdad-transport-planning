{
 "cells": [
  {
   "cell_type": "markdown",
   "metadata": {},
   "source": [
    "# Pollution and Congestion"
   ]
  },
  {
   "cell_type": "code",
   "execution_count": 4,
   "metadata": {
    "tags": [
     "remove-cell"
    ]
   },
   "outputs": [
    {
     "name": "stderr",
     "output_type": "stream",
     "text": [
      "c:\\WBG\\Anaconda3\\envs\\data-goods\\Lib\\site-packages\\geopandas\\_compat.py:123: UserWarning: The Shapely GEOS version (3.10.3-CAPI-1.16.1) is incompatible with the GEOS version PyGEOS was compiled with (3.10.4-CAPI-1.16.2). Conversions between both will be slow.\n",
      "  warnings.warn(\n"
     ]
    }
   ],
   "source": [
    "import pandas as pd \n",
    "import numpy as np\n",
    "import matplotlib.pyplot as plt\n",
    "import geopandas as gpd\n"
   ]
  },
  {
   "cell_type": "code",
   "execution_count": 5,
   "metadata": {
    "tags": [
     "remove-cell"
    ]
   },
   "outputs": [],
   "source": [
    "baghdad = gpd.read_file('../../data/boundaries/irq_admbnda_adm1_cso_20190603.shp')\n",
    "baghdad = baghdad[baghdad['ADM1_EN']=='Baghdad']"
   ]
  },
  {
   "cell_type": "code",
   "execution_count": null,
   "metadata": {},
   "outputs": [],
   "source": [
    "jams = pd.read_csv('../../data/waze/tci_on_h3_may2024.csv')"
   ]
  },
  {
   "cell_type": "code",
   "execution_count": 6,
   "metadata": {},
   "outputs": [],
   "source": [
    "import glob\n",
    "# Use glob to find all CSV files in the directory\n",
    "file_paths = glob.glob(\"../../data/air_pollution/daily/202405*.csv\")\n",
    "# Read all CSV files into a list of DataFrames\n",
    "dataframes = [pd.read_csv(file) for file in file_paths]\n",
    "# Optionally, combine all DataFrames into one\n",
    "airpollution = pd.concat(dataframes, ignore_index=True)"
   ]
  },
  {
   "cell_type": "code",
   "execution_count": 9,
   "metadata": {},
   "outputs": [],
   "source": [
    "import json\n",
    "airpollution['date'] = pd.to_datetime(airpollution['date'])\n",
    "\n",
    "airpollution.drop(columns = 'system:index', inplace=True)\n",
    "airpollution['aoi'] = 'Baghdad'\n",
    "airpollution.rename(columns = {'date':'event_date'}, inplace=True)\n",
    "airpollution[\"coordinates\"] = airpollution[\".geo\"].apply(lambda x: json.loads(x)[\"coordinates\"])"
   ]
  },
  {
   "cell_type": "code",
   "execution_count": 12,
   "metadata": {},
   "outputs": [],
   "source": [
    "airpollution.drop(columns='.geo', inplace=True)"
   ]
  },
  {
   "cell_type": "code",
   "execution_count": 14,
   "metadata": {},
   "outputs": [],
   "source": [
    "airpollution[\"longitude\"] = airpollution[\"coordinates\"].apply(lambda x: x[0])\n",
    "airpollution[\"latitude\"] = airpollution[\"coordinates\"].apply(lambda x: x[1])"
   ]
  },
  {
   "cell_type": "code",
   "execution_count": 15,
   "metadata": {},
   "outputs": [],
   "source": [
    "from acled_conflict_analysis import analysis\n",
    "\n",
    "airpollution = analysis.convert_to_gdf(airpollution)"
   ]
  },
  {
   "cell_type": "code",
   "execution_count": 25,
   "metadata": {},
   "outputs": [],
   "source": [
    "from shapely import wkt\n",
    "jams['geoWKT'] = jams['geoWKT'].apply(wkt.loads)"
   ]
  },
  {
   "cell_type": "code",
   "execution_count": 26,
   "metadata": {},
   "outputs": [],
   "source": [
    "jams = gpd.GeoDataFrame(jams, geometry='geoWKT')"
   ]
  },
  {
   "cell_type": "code",
   "execution_count": null,
   "metadata": {},
   "outputs": [],
   "source": [
    "airpollution['weekday_group'] = "
   ]
  },
  {
   "cell_type": "code",
   "execution_count": null,
   "metadata": {},
   "outputs": [
    {
     "data": {
      "text/html": [
       "<div>\n",
       "<style scoped>\n",
       "    .dataframe tbody tr th:only-of-type {\n",
       "        vertical-align: middle;\n",
       "    }\n",
       "\n",
       "    .dataframe tbody tr th {\n",
       "        vertical-align: top;\n",
       "    }\n",
       "\n",
       "    .dataframe thead th {\n",
       "        text-align: right;\n",
       "    }\n",
       "</style>\n",
       "<table border=\"1\" class=\"dataframe\">\n",
       "  <thead>\n",
       "    <tr style=\"text-align: right;\">\n",
       "      <th></th>\n",
       "      <th>NO2_column_number_density</th>\n",
       "      <th>event_date</th>\n",
       "      <th>aoi</th>\n",
       "      <th>coordinates</th>\n",
       "      <th>longitude</th>\n",
       "      <th>latitude</th>\n",
       "      <th>geometry</th>\n",
       "    </tr>\n",
       "  </thead>\n",
       "  <tbody>\n",
       "    <tr>\n",
       "      <th>0</th>\n",
       "      <td>0.000075</td>\n",
       "      <td>2024-05-01</td>\n",
       "      <td>Baghdad</td>\n",
       "      <td>[44.56092966874886, 32.81994890530672]</td>\n",
       "      <td>44.560930</td>\n",
       "      <td>32.819949</td>\n",
       "      <td>POINT (44.56093 32.81995)</td>\n",
       "    </tr>\n",
       "    <tr>\n",
       "      <th>1</th>\n",
       "      <td>0.000075</td>\n",
       "      <td>2024-05-01</td>\n",
       "      <td>Baghdad</td>\n",
       "      <td>[44.56991282159006, 32.81994890530672]</td>\n",
       "      <td>44.569913</td>\n",
       "      <td>32.819949</td>\n",
       "      <td>POINT (44.56991 32.81995)</td>\n",
       "    </tr>\n",
       "    <tr>\n",
       "      <th>2</th>\n",
       "      <td>0.000075</td>\n",
       "      <td>2024-05-01</td>\n",
       "      <td>Baghdad</td>\n",
       "      <td>[44.578895974431255, 32.81994890530672]</td>\n",
       "      <td>44.578896</td>\n",
       "      <td>32.819949</td>\n",
       "      <td>POINT (44.57890 32.81995)</td>\n",
       "    </tr>\n",
       "    <tr>\n",
       "      <th>3</th>\n",
       "      <td>0.000075</td>\n",
       "      <td>2024-05-01</td>\n",
       "      <td>Baghdad</td>\n",
       "      <td>[44.58787912727245, 32.81994890530672]</td>\n",
       "      <td>44.587879</td>\n",
       "      <td>32.819949</td>\n",
       "      <td>POINT (44.58788 32.81995)</td>\n",
       "    </tr>\n",
       "    <tr>\n",
       "      <th>4</th>\n",
       "      <td>0.000078</td>\n",
       "      <td>2024-05-01</td>\n",
       "      <td>Baghdad</td>\n",
       "      <td>[44.54296336306648, 32.82893205814791]</td>\n",
       "      <td>44.542963</td>\n",
       "      <td>32.828932</td>\n",
       "      <td>POINT (44.54296 32.82893)</td>\n",
       "    </tr>\n",
       "    <tr>\n",
       "      <th>...</th>\n",
       "      <td>...</td>\n",
       "      <td>...</td>\n",
       "      <td>...</td>\n",
       "      <td>...</td>\n",
       "      <td>...</td>\n",
       "      <td>...</td>\n",
       "      <td>...</td>\n",
       "    </tr>\n",
       "    <tr>\n",
       "      <th>178139</th>\n",
       "      <td>0.000100</td>\n",
       "      <td>2024-05-31</td>\n",
       "      <td>Baghdad</td>\n",
       "      <td>[44.381266611924964, 33.73623049510863]</td>\n",
       "      <td>44.381267</td>\n",
       "      <td>33.736230</td>\n",
       "      <td>POINT (44.38127 33.73623)</td>\n",
       "    </tr>\n",
       "    <tr>\n",
       "      <th>178140</th>\n",
       "      <td>0.000100</td>\n",
       "      <td>2024-05-31</td>\n",
       "      <td>Baghdad</td>\n",
       "      <td>[44.39024976476615, 33.73623049510863]</td>\n",
       "      <td>44.390250</td>\n",
       "      <td>33.736230</td>\n",
       "      <td>POINT (44.39025 33.73623)</td>\n",
       "    </tr>\n",
       "    <tr>\n",
       "      <th>178141</th>\n",
       "      <td>0.000089</td>\n",
       "      <td>2024-05-31</td>\n",
       "      <td>Baghdad</td>\n",
       "      <td>[44.22855301362464, 33.745213647949825]</td>\n",
       "      <td>44.228553</td>\n",
       "      <td>33.745214</td>\n",
       "      <td>POINT (44.22855 33.74521)</td>\n",
       "    </tr>\n",
       "    <tr>\n",
       "      <th>178142</th>\n",
       "      <td>0.000085</td>\n",
       "      <td>2024-05-31</td>\n",
       "      <td>Baghdad</td>\n",
       "      <td>[44.23753616646584, 33.745213647949825]</td>\n",
       "      <td>44.237536</td>\n",
       "      <td>33.745214</td>\n",
       "      <td>POINT (44.23754 33.74521)</td>\n",
       "    </tr>\n",
       "    <tr>\n",
       "      <th>178143</th>\n",
       "      <td>0.000085</td>\n",
       "      <td>2024-05-31</td>\n",
       "      <td>Baghdad</td>\n",
       "      <td>[44.24651931930703, 33.745213647949825]</td>\n",
       "      <td>44.246519</td>\n",
       "      <td>33.745214</td>\n",
       "      <td>POINT (44.24652 33.74521)</td>\n",
       "    </tr>\n",
       "  </tbody>\n",
       "</table>\n",
       "<p>178144 rows × 7 columns</p>\n",
       "</div>"
      ],
      "text/plain": [
       "        NO2_column_number_density event_date      aoi  \\\n",
       "0                        0.000075 2024-05-01  Baghdad   \n",
       "1                        0.000075 2024-05-01  Baghdad   \n",
       "2                        0.000075 2024-05-01  Baghdad   \n",
       "3                        0.000075 2024-05-01  Baghdad   \n",
       "4                        0.000078 2024-05-01  Baghdad   \n",
       "...                           ...        ...      ...   \n",
       "178139                   0.000100 2024-05-31  Baghdad   \n",
       "178140                   0.000100 2024-05-31  Baghdad   \n",
       "178141                   0.000089 2024-05-31  Baghdad   \n",
       "178142                   0.000085 2024-05-31  Baghdad   \n",
       "178143                   0.000085 2024-05-31  Baghdad   \n",
       "\n",
       "                                    coordinates  longitude   latitude  \\\n",
       "0        [44.56092966874886, 32.81994890530672]  44.560930  32.819949   \n",
       "1        [44.56991282159006, 32.81994890530672]  44.569913  32.819949   \n",
       "2       [44.578895974431255, 32.81994890530672]  44.578896  32.819949   \n",
       "3        [44.58787912727245, 32.81994890530672]  44.587879  32.819949   \n",
       "4        [44.54296336306648, 32.82893205814791]  44.542963  32.828932   \n",
       "...                                         ...        ...        ...   \n",
       "178139  [44.381266611924964, 33.73623049510863]  44.381267  33.736230   \n",
       "178140   [44.39024976476615, 33.73623049510863]  44.390250  33.736230   \n",
       "178141  [44.22855301362464, 33.745213647949825]  44.228553  33.745214   \n",
       "178142  [44.23753616646584, 33.745213647949825]  44.237536  33.745214   \n",
       "178143  [44.24651931930703, 33.745213647949825]  44.246519  33.745214   \n",
       "\n",
       "                         geometry  \n",
       "0       POINT (44.56093 32.81995)  \n",
       "1       POINT (44.56991 32.81995)  \n",
       "2       POINT (44.57890 32.81995)  \n",
       "3       POINT (44.58788 32.81995)  \n",
       "4       POINT (44.54296 32.82893)  \n",
       "...                           ...  \n",
       "178139  POINT (44.38127 33.73623)  \n",
       "178140  POINT (44.39025 33.73623)  \n",
       "178141  POINT (44.22855 33.74521)  \n",
       "178142  POINT (44.23754 33.74521)  \n",
       "178143  POINT (44.24652 33.74521)  \n",
       "\n",
       "[178144 rows x 7 columns]"
      ]
     },
     "execution_count": 29,
     "metadata": {},
     "output_type": "execute_result"
    }
   ],
   "source": [
    "airpollution[['NO2_column_number_density', 'event_date', 'aoi', 'longitude', 'latitude']]"
   ]
  },
  {
   "cell_type": "code",
   "execution_count": null,
   "metadata": {},
   "outputs": [
    {
     "name": "stderr",
     "output_type": "stream",
     "text": [
      "c:\\WBG\\Anaconda3\\envs\\data-goods\\Lib\\site-packages\\geopandas\\geodataframe.py:2061: UserWarning: CRS mismatch between the CRS of left geometries and the CRS of right geometries.\n",
      "Use `to_crs()` to reproject one of the input geometries to match the CRS of the other.\n",
      "\n",
      "Left CRS: None\n",
      "Right CRS: EPSG:4326\n",
      "\n",
      "  return geopandas.sjoin(left_df=self, right_df=df, *args, **kwargs)\n"
     ]
    },
    {
     "data": {
      "text/plain": [
       "(93937, 12)"
      ]
     },
     "execution_count": 28,
     "metadata": {},
     "output_type": "execute_result"
    }
   ],
   "source": [
    "jams.sjoin(airpollution)"
   ]
  },
  {
   "cell_type": "code",
   "execution_count": 19,
   "metadata": {},
   "outputs": [
    {
     "data": {
      "text/plain": [
       "(6126, 7)"
      ]
     },
     "execution_count": 19,
     "metadata": {},
     "output_type": "execute_result"
    }
   ],
   "source": [
    "airpollution[airpollution['event_date']=='2024-05-01'].shape"
   ]
  }
 ],
 "metadata": {
  "kernelspec": {
   "display_name": "data-goods",
   "language": "python",
   "name": "python3"
  },
  "language_info": {
   "codemirror_mode": {
    "name": "ipython",
    "version": 3
   },
   "file_extension": ".py",
   "mimetype": "text/x-python",
   "name": "python",
   "nbconvert_exporter": "python",
   "pygments_lexer": "ipython3",
   "version": "3.11.9"
  }
 },
 "nbformat": 4,
 "nbformat_minor": 2
}
